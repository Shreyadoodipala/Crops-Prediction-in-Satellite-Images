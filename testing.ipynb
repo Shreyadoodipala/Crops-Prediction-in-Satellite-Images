{
 "cells": [
  {
   "cell_type": "code",
   "execution_count": 1,
   "id": "bb55a978-8206-42b6-8f4c-2bb24d8ff181",
   "metadata": {},
   "outputs": [],
   "source": [
    "import joblib\n",
    "from tensorflow.keras.models import load_model\n",
    "import numpy as np"
   ]
  },
  {
   "cell_type": "code",
   "execution_count": 2,
   "id": "3b55a287-0444-4b98-9b1e-2f9f246103d3",
   "metadata": {},
   "outputs": [
    {
     "name": "stderr",
     "output_type": "stream",
     "text": [
      "WARNING:absl:Compiled the loaded model, but the compiled metrics have yet to be built. `model.compile_metrics` will be empty until you train or evaluate the model.\n"
     ]
    }
   ],
   "source": [
    "model = load_model('savedmodel2.h5')"
   ]
  },
  {
   "cell_type": "code",
   "execution_count": 3,
   "id": "f5cf2fe6-d04b-44f2-bd22-2e53fd1fc615",
   "metadata": {},
   "outputs": [],
   "source": [
    "label_encoder = joblib.load('label_encoder.pkl')"
   ]
  },
  {
   "cell_type": "code",
   "execution_count": 4,
   "id": "d1b2e5bc-379f-4854-b56b-ae86d4b73f06",
   "metadata": {},
   "outputs": [],
   "source": [
    "def preprocess_image (filepath):\n",
    "    if filepath.endswith('.npz'):\n",
    "        with np.load(filepath) as npz_file:\n",
    "            array_count = 0\n",
    "            data_group = []\n",
    "            for array_name in npz_file.files:\n",
    "                array = npz_file[array_name]\n",
    "                    \n",
    "                if array.shape in [(12, 12), (11, 12,), (12, 11)]:\n",
    "                    if array.shape == (11, 12):\n",
    "                        padded_array = np.pad(array, ((1, 0), (0, 0)), mode='constant')\n",
    "                        data_group.append(padded_array)\n",
    "                    elif array.shape == (12, 11):\n",
    "                        padded_array = np.pad(array, ((0, 0), (1, 0)), mode='constant')\n",
    "                        data_group.append(padded_array)\n",
    "                    else:\n",
    "                        padded_array = array\n",
    "                        data_group.append(padded_array)\n",
    "\n",
    "                    array_count += 1\n",
    "\n",
    "            if array_count != 19:\n",
    "                print('The given picture does not have 19 channels.')\n",
    "            else:\n",
    "                data_array = np.array(data_group)\n",
    "                return np.expand_dims(data_array, axis=0)\n",
    "    else :\n",
    "        print(\"Please give a .npz file\")"
   ]
  },
  {
   "cell_type": "code",
   "execution_count": 5,
   "id": "ef9f8688-6652-47ec-aef3-833f4e4374dc",
   "metadata": {},
   "outputs": [],
   "source": [
    "img_path = 'C:/Users/shrey/Desktop/testing_images/sugarcane.npz'"
   ]
  },
  {
   "cell_type": "code",
   "execution_count": 6,
   "id": "7a7eb1b5-ea1d-48ec-9929-ad14db094ba2",
   "metadata": {},
   "outputs": [],
   "source": [
    "processed_image = preprocess_image(img_path)"
   ]
  },
  {
   "cell_type": "code",
   "execution_count": 7,
   "id": "d3f92d56-0354-4f74-8fa2-ea1096628689",
   "metadata": {},
   "outputs": [
    {
     "name": "stdout",
     "output_type": "stream",
     "text": [
      "\u001b[1m1/1\u001b[0m \u001b[32m━━━━━━━━━━━━━━━━━━━━\u001b[0m\u001b[37m\u001b[0m \u001b[1m0s\u001b[0m 425ms/step\n",
      "Predicted class: Sugarcane\n"
     ]
    }
   ],
   "source": [
    "# Get the prediction\n",
    "prediction = model.predict(processed_image)\n",
    "predicted_class_index = np.argmax(prediction, axis=1)\n",
    "\n",
    "# Decode the predicted class index to class name\n",
    "predicted_class_name = label_encoder.inverse_transform(predicted_class_index)\n",
    "print(\"Predicted class:\", predicted_class_name[0])"
   ]
  },
  {
   "cell_type": "code",
   "execution_count": null,
   "id": "198b7fef-5fa3-4f7f-a425-88ba2037dcae",
   "metadata": {},
   "outputs": [],
   "source": []
  }
 ],
 "metadata": {
  "kernelspec": {
   "display_name": "Python 3 (ipykernel)",
   "language": "python",
   "name": "python3"
  },
  "language_info": {
   "codemirror_mode": {
    "name": "ipython",
    "version": 3
   },
   "file_extension": ".py",
   "mimetype": "text/x-python",
   "name": "python",
   "nbconvert_exporter": "python",
   "pygments_lexer": "ipython3",
   "version": "3.12.1"
  }
 },
 "nbformat": 4,
 "nbformat_minor": 5
}
